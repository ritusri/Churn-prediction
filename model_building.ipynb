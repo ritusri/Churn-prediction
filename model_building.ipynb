{
 "cells": [
  {
   "cell_type": "code",
   "execution_count": 1,
   "metadata": {},
   "outputs": [],
   "source": [
    "#Load libraries\n",
    "import os\n",
    "import pandas as pd\n",
    "import numpy as np\n",
    "   \n",
    "import matplotlib.pyplot as plt\n",
    "from scipy.stats import chi2_contingency\n",
    "import seaborn as sns\n",
    "from random import randrange, uniform"
   ]
  },
  {
   "cell_type": "code",
   "execution_count": 2,
   "metadata": {},
   "outputs": [],
   "source": [
    "telcom=pd.read_csv(r\"C:\\Users\\anupr\\Desktop\\churn prediction\\churn_data.csv\")"
   ]
  },
  {
   "cell_type": "markdown",
   "metadata": {},
   "source": [
    "# Decision Tree Visualization"
   ]
  },
  {
   "cell_type": "code",
   "execution_count": null,
   "metadata": {},
   "outputs": [],
   "source": [
    "from sklearn.tree import DecisionTreeClassifier\n",
    "from sklearn.tree import export_graphviz\n",
    "from sklearn import tree\n",
    "from graphviz import Source\n",
    "from IPython.display import SVG,display\n",
    "\n",
    "#top 3 categorical features\n",
    "features_cat  = score[score[\"feature_type\"] == \"Categorical\"][\"features\"][:3].tolist()\n",
    "\n",
    "#top 3 numerical features\n",
    "features_num  = score[score[\"feature_type\"] == \"Numerical\"][\"features\"][:3].tolist()\n",
    "\n",
    "\n",
    "#Function attributes\n",
    "#columns        - selected columns\n",
    "#maximum_depth  - depth of tree\n",
    "#criterion_type - [\"gini\" or \"entropy\"]\n",
    "#split_type     - [\"best\" or \"random\"]\n",
    "#Model Performance - True (gives model output)\n",
    "\n",
    "def plot_decision_tree(columns,maximum_depth,criterion_type,\n",
    "                       split_type,model_performance = None) :\n",
    "    \n",
    "    #separating dependent and in dependent variables\n",
    "    dtc_x = df_x[columns]\n",
    "    dtc_y = df_y[target_col]\n",
    "    \n",
    "    #model\n",
    "    dt_classifier = DecisionTreeClassifier(max_depth = maximum_depth,\n",
    "                                           splitter  = split_type,\n",
    "                                           criterion = criterion_type,\n",
    "                                          )\n",
    "    dt_classifier.fit(dtc_x,dtc_y)\n",
    "    \n",
    "    #plot decision tree\n",
    "    graph = Source(tree.export_graphviz(dt_classifier,out_file=None,\n",
    "                                        rounded=True,proportion = False,\n",
    "                                        feature_names = columns, \n",
    "                                        precision  = 2,\n",
    "                                        class_names=[\"Not churn\",\"Churn\"],\n",
    "                                        filled = True                         \n",
    "                                       )\n",
    "                  )\n",
    "    \n",
    "    #model performance\n",
    "    if model_performance == True :\n",
    "        telecom_churn_prediction(dt_classifier,\n",
    "                                 dtc_x,test_X[columns],\n",
    "                                 dtc_y,test_Y,\n",
    "                                 columns,\"features\",threshold_plot = True)\n",
    "    display(graph)\n",
    "    \n",
    "plot_decision_tree(features_num,3,\"gini\",\"best\")"
   ]
  },
  {
   "cell_type": "code",
   "execution_count": null,
   "metadata": {},
   "outputs": [],
   "source": [
    "plot_decision_tree(features_cat,3,\"entropy\",\"best\",\n",
    "                   model_performance = True ,)"
   ]
  },
  {
   "cell_type": "code",
   "execution_count": null,
   "metadata": {},
   "outputs": [],
   "source": [
    "#using contract,tenure and paperless billing variables\n",
    "columns = ['tenure','Contract_Month-to-month', 'PaperlessBilling',\n",
    "           'Contract_One year', 'Contract_Two year']\n",
    "\n",
    "plot_decision_tree(columns,3,\"gini\",\"best\",model_performance= True)"
   ]
  },
  {
   "cell_type": "markdown",
   "metadata": {},
   "source": [
    "# KNN Classifier"
   ]
  },
  {
   "cell_type": "code",
   "execution_count": null,
   "metadata": {},
   "outputs": [],
   "source": [
    "def telecom_churn_prediction_alg(algorithm,training_x,testing_x,\n",
    "                                 training_y,testing_y,threshold_plot = True) :\n",
    "    \n",
    "    #model\n",
    "    algorithm.fit(training_x,training_y)\n",
    "    predictions   = algorithm.predict(testing_x)\n",
    "    probabilities = algorithm.predict_proba(testing_x)\n",
    "    \n",
    "    print (algorithm)\n",
    "    print (\"\\n Classification report : \\n\",classification_report(testing_y,predictions))\n",
    "    print (\"Accuracy Score   : \",accuracy_score(testing_y,predictions))\n",
    "    #confusion matrix\n",
    "    conf_matrix = confusion_matrix(testing_y,predictions)\n",
    "    #roc_auc_score\n",
    "    model_roc_auc = roc_auc_score(testing_y,predictions) \n",
    "    print (\"Area under curve : \",model_roc_auc)\n",
    "    fpr,tpr,thresholds = roc_curve(testing_y,probabilities[:,1])\n",
    "     \n",
    "    #plot roc curve\n",
    "    trace1 = go.Scatter(x = fpr,y = tpr,\n",
    "                        name = \"Roc : \" + str(model_roc_auc),\n",
    "                        line = dict(color = ('rgb(22, 96, 167)'),width = 2),\n",
    "                       )\n",
    "    trace2 = go.Scatter(x = [0,1],y=[0,1],\n",
    "                        line = dict(color = ('rgb(205, 12, 24)'),width = 2,\n",
    "                        dash = 'dot'))\n",
    "    \n",
    "    #plot confusion matrix\n",
    "    trace3 = go.Heatmap(z = conf_matrix ,x = [\"Not churn\",\"Churn\"],\n",
    "                        y = [\"Not churn\",\"Churn\"],\n",
    "                        showscale  = False,colorscale = \"Blues\",name = \"matrix\",\n",
    "                        xaxis = \"x2\",yaxis = \"y2\"\n",
    "                       )\n",
    "    \n",
    "    layout = go.Layout(dict(title=\"Model performance\" ,\n",
    "                            autosize = False,height = 500,width = 800,\n",
    "                            showlegend = False,\n",
    "                            plot_bgcolor  = \"rgb(243,243,243)\",\n",
    "                            paper_bgcolor = \"rgb(243,243,243)\",\n",
    "                            xaxis = dict(title = \"false positive rate\",\n",
    "                                         gridcolor = 'rgb(255, 255, 255)',\n",
    "                                         domain=[0, 0.6],\n",
    "                                         ticklen=5,gridwidth=2),\n",
    "                            yaxis = dict(title = \"true positive rate\",\n",
    "                                         gridcolor = 'rgb(255, 255, 255)',\n",
    "                                         zerolinewidth=1,\n",
    "                                         ticklen=5,gridwidth=2),\n",
    "                            margin = dict(b=200),\n",
    "                            xaxis2=dict(domain=[0.7, 1],tickangle = 90,\n",
    "                                        gridcolor = 'rgb(255, 255, 255)'),\n",
    "                            yaxis2=dict(anchor='x2',gridcolor = 'rgb(255, 255, 255)')\n",
    "                           )\n",
    "                  )\n",
    "    data = [trace1,trace2,trace3]\n",
    "    fig = go.Figure(data=data,layout=layout)\n",
    "    \n",
    "    py.iplot(fig)\n",
    "    \n",
    "    if threshold_plot == True : \n",
    "        visualizer = DiscriminationThreshold(algorithm)\n",
    "        visualizer.fit(training_x,training_y)\n",
    "        visualizer.poof()\n",
    "\n",
    "    \n",
    "from sklearn.neighbors import KNeighborsClassifier\n",
    "knn = KNeighborsClassifier(algorithm='auto', leaf_size=30, metric='minkowski',\n",
    "           metric_params=None, n_jobs=1, n_neighbors=5, p=2,\n",
    "           weights='uniform')\n",
    "telecom_churn_prediction_alg(knn,os_smote_X,test_X,\n",
    "                             os_smote_Y,test_Y,threshold_plot = True)"
   ]
  },
  {
   "cell_type": "markdown",
   "metadata": {},
   "source": [
    "# Vizualising a decision tree from random forest classifier"
   ]
  },
  {
   "cell_type": "code",
   "execution_count": null,
   "metadata": {},
   "outputs": [],
   "source": [
    "from sklearn.ensemble import RandomForestClassifier\n",
    "\n",
    "#function attributes\n",
    "#columns  - column used\n",
    "#nf_estimators   - The number of trees in the forest.\n",
    "#estimated_tree  - tree number to be displayed\n",
    "#maximum_depth   - depth of the tree\n",
    "#criterion_type  - split criterion type [\"gini\" or \"entropy\"]\n",
    "#Model performance - prints performance of model\n",
    "\n",
    "def plot_tree_randomforest(columns,nf_estimators,\n",
    "                           estimated_tree,maximum_depth,\n",
    "                           criterion_type,model_performance = None) :\n",
    "    \n",
    "    dataframe = df_telcom_og[columns + target_col].copy()\n",
    "    \n",
    "    #train and test datasets\n",
    "    rf_x     = dataframe[[i for i in columns if i not in target_col]]\n",
    "    rf_y     = dataframe[target_col]\n",
    "    \n",
    "    #random forest classifier\n",
    "    rfc   = RandomForestClassifier(n_estimators = nf_estimators,\n",
    "                                   max_depth = maximum_depth,\n",
    "                                   criterion = criterion_type,\n",
    "                                  )\n",
    "    rfc.fit(rf_x,rf_y)\n",
    "    \n",
    "    estimated_tree = rfc.estimators_[estimated_tree]\n",
    "    \n",
    "    graph = Source(tree.export_graphviz(estimated_tree,out_file=None,\n",
    "                                        rounded=True,proportion = False,\n",
    "                            feature_names = columns, \n",
    "                            precision  = 2,\n",
    "                            class_names=[\"Not churn\",\"Churn\"],\n",
    "                            filled = True))\n",
    "    display(graph)\n",
    "    \n",
    "    #model performance\n",
    "    if model_performance == True :\n",
    "        telecom_churn_prediction(rfc,\n",
    "                                 rf_x,test_X[columns],\n",
    "                                 rf_y,test_Y,\n",
    "                                 columns,\"features\",threshold_plot = True)\n",
    "        \n",
    "\n",
    "cols1 = [ i for i in train_X.columns if i not in target_col + Id_col] \n",
    "plot_tree_randomforest(cols1,100,99,3,\"entropy\",True)"
   ]
  },
  {
   "cell_type": "code",
   "execution_count": null,
   "metadata": {},
   "outputs": [],
   "source": [
    "#making 10 trees with random forest.\n",
    "n = np.arange(0,10).tolist()\n",
    "cols1 = [ i for i in train_X.columns if i not in target_col + Id_col] \n",
    "for i in n :\n",
    "    plot_tree_randomforest(cols1,10,i,3,\"entropy\",model_performance=False)"
   ]
  },
  {
   "cell_type": "code",
   "execution_count": null,
   "metadata": {},
   "outputs": [],
   "source": [
    "#making 10 trees with random forest for columns \n",
    "#selected from recursive feature elimination\n",
    "\n",
    "n = np.arange(0,10).tolist()\n",
    "cols = idc_rfe[idc_rfe[\"rfe_support\"] == True][\"columns\"].tolist() \n",
    "for i in n :\n",
    "    plot_tree_randomforest(cols,10,i,3,\"gini\",model_performance=False)"
   ]
  },
  {
   "cell_type": "markdown",
   "metadata": {},
   "source": [
    "# Gaussian Naive Bayes"
   ]
  },
  {
   "cell_type": "code",
   "execution_count": null,
   "metadata": {},
   "outputs": [],
   "source": [
    "from sklearn.naive_bayes import GaussianNB\n",
    "gnb = GaussianNB(priors=None)\n",
    "\n",
    "telecom_churn_prediction_alg(gnb,os_smote_X,test_X,os_smote_Y,test_Y)"
   ]
  },
  {
   "cell_type": "markdown",
   "metadata": {},
   "source": [
    "# Support Vector Machine"
   ]
  },
  {
   "cell_type": "code",
   "execution_count": null,
   "metadata": {},
   "outputs": [],
   "source": [
    "from sklearn.svm import SVC\n",
    "\n",
    "#Support vector classifier\n",
    "#using linear hyper plane\n",
    "svc_lin  = SVC(C=1.0, cache_size=200, class_weight=None, coef0=0.0,\n",
    "               decision_function_shape='ovr', degree=3, gamma=1.0, kernel='linear',\n",
    "               max_iter=-1, probability=True, random_state=None, shrinking=True,\n",
    "               tol=0.001, verbose=False)\n",
    "\n",
    "cols = [i for i in telcom.columns if i not in Id_col + target_col]\n",
    "telecom_churn_prediction(svc_lin,os_smote_X,test_X,os_smote_Y,test_Y,\n",
    "                         cols,\"coefficients\",threshold_plot = False)"
   ]
  },
  {
   "cell_type": "markdown",
   "metadata": {},
   "source": [
    "Tuning parameters for support vector machine"
   ]
  },
  {
   "cell_type": "code",
   "execution_count": null,
   "metadata": {},
   "outputs": [],
   "source": [
    "#tuning parameters\n",
    "#Support vector classifier\n",
    "#using non-linear hyper plane(\"rbf\")\n",
    "\n",
    "svc_rbf  = SVC(C=1.0, kernel='rbf', \n",
    "               degree= 3, gamma=1.0, \n",
    "               coef0=0.0, shrinking=True,\n",
    "               probability=True,tol=0.001,\n",
    "               cache_size=200, class_weight=None,\n",
    "               verbose=False,max_iter= -1,\n",
    "               random_state=None)\n",
    "\n",
    "telecom_churn_prediction_alg(svc_rbf,os_smote_X,test_X,os_smote_Y,test_Y,threshold_plot = False)"
   ]
  },
  {
   "cell_type": "markdown",
   "metadata": {},
   "source": [
    "# XGBoost Classifier"
   ]
  },
  {
   "cell_type": "code",
   "execution_count": null,
   "metadata": {},
   "outputs": [],
   "source": [
    "from xgboost import XGBClassifier\n",
    "\n",
    "xgc = XGBClassifier(base_score=0.5, booster='gbtree', colsample_bylevel=1,\n",
    "                    colsample_bytree=1, gamma=0, learning_rate=0.9, max_delta_step=0,\n",
    "                    max_depth = 7, min_child_weight=1, missing=None, n_estimators=100,\n",
    "                    n_jobs=1, nthread=None, objective='binary:logistic', random_state=0,\n",
    "                    reg_alpha=0, reg_lambda=1, scale_pos_weight=1, seed=None,\n",
    "                    silent=True, subsample=1)\n",
    "\n",
    "\n",
    "telecom_churn_prediction(xgc,os_smote_X,test_X,os_smote_Y,test_Y,\n",
    "                         cols,\"features\",threshold_plot = True)"
   ]
  },
  {
   "cell_type": "code",
   "execution_count": null,
   "metadata": {},
   "outputs": [],
   "source": []
  }
 ],
 "metadata": {
  "kernelspec": {
   "display_name": "Python 3",
   "language": "python",
   "name": "python3"
  },
  "language_info": {
   "codemirror_mode": {
    "name": "ipython",
    "version": 3
   },
   "file_extension": ".py",
   "mimetype": "text/x-python",
   "name": "python",
   "nbconvert_exporter": "python",
   "pygments_lexer": "ipython3",
   "version": "3.7.0"
  }
 },
 "nbformat": 4,
 "nbformat_minor": 2
}
